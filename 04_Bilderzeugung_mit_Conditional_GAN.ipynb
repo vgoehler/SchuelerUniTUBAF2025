{
 "cells": [
  {
   "cell_type": "markdown",
   "metadata": {
    "id": "6I-1-w4jsSlh"
   },
   "source": [
    "# Bilderzeugung mit Conditional GAN\n",
    "\n",
    "**Original Author GAN:** [Sayak Paul](https://twitter.com/RisingSayak)<br>\n",
    "**Translated and Modified and Curated by:** Volker Göhler<br>\n",
    "\n",
    "<table class=\"tfo-notebook-buttons\" align=\"left\">\n",
    "  <td>\n",
    "    <a target=\"_blank\" href=\"https://keras.io/examples/generative/conditional_gan\"><img src=\"https://www.tensorflow.org/images/tf_logo_32px.png\" />GAN Source view on Keras.io</a>\n",
    "  </td>\n",
    "  <td>\n",
    "    <a target=\"_blank\" href=\"https://colab.research.google.com/github/vgoehler/SchuelerUniTUBAF2024/blob/main/04_Bilderzeugung_mit_Conditional_GAN.ipynb\"><img src=\"https://www.tensorflow.org/images/colab_logo_32px.png\" />Run in Google Colab</a>\n",
    "  </td>\n",
    "  <td>\n",
    "    <a target=\"_blank\" href=\"https://colab.research.google.com/github/vgoehler/SchuelerUniTUBAF2024/blob/main/04_Bilderzeugung_mit_Conditional_GAN.ipynb\"><img src=\"https://www.tensorflow.org/images/GitHub-Mark-32px.png\" />View source on GitHub</a>\n",
    "  </td>\n",
    "</table>"
   ]
  },
  {
   "cell_type": "code",
   "execution_count": 3,
   "metadata": {
    "colab": {
     "base_uri": "https://localhost:8080/"
    },
    "id": "nV7fMpvasSlk",
    "outputId": "03ebf35a-648c-4188-d5d4-2f5e40f7f360"
   },
   "outputs": [],
   "source": [
    "!pip install -q git+https://github.com/tensorflow/docs"
   ]
  },
  {
   "cell_type": "code",
   "execution_count": null,
   "metadata": {
    "colab": {
     "base_uri": "https://localhost:8080/"
    },
    "id": "uUa3H-dNsnr0",
    "outputId": "422f5137-2b77-43d6-d386-f2afb989578f"
   },
   "outputs": [
    {
     "name": "stdout",
     "output_type": "stream",
     "text": [
      "Requirement already satisfied: keras in /usr/local/lib/python3.10/dist-packages (3.4.1)\n",
      "Requirement already satisfied: absl-py in /usr/local/lib/python3.10/dist-packages (from keras) (1.4.0)\n",
      "Requirement already satisfied: numpy in /usr/local/lib/python3.10/dist-packages (from keras) (1.25.2)\n",
      "Requirement already satisfied: rich in /usr/local/lib/python3.10/dist-packages (from keras) (13.7.1)\n",
      "Requirement already satisfied: namex in /usr/local/lib/python3.10/dist-packages (from keras) (0.0.8)\n",
      "Requirement already satisfied: h5py in /usr/local/lib/python3.10/dist-packages (from keras) (3.9.0)\n",
      "Requirement already satisfied: optree in /usr/local/lib/python3.10/dist-packages (from keras) (0.12.1)\n",
      "Requirement already satisfied: ml-dtypes in /usr/local/lib/python3.10/dist-packages (from keras) (0.2.0)\n",
      "Requirement already satisfied: packaging in /usr/local/lib/python3.10/dist-packages (from keras) (24.1)\n",
      "Requirement already satisfied: typing-extensions>=4.5.0 in /usr/local/lib/python3.10/dist-packages (from optree->keras) (4.12.2)\n",
      "Requirement already satisfied: markdown-it-py>=2.2.0 in /usr/local/lib/python3.10/dist-packages (from rich->keras) (3.0.0)\n",
      "Requirement already satisfied: pygments<3.0.0,>=2.13.0 in /usr/local/lib/python3.10/dist-packages (from rich->keras) (2.16.1)\n",
      "Requirement already satisfied: mdurl~=0.1 in /usr/local/lib/python3.10/dist-packages (from markdown-it-py>=2.2.0->rich->keras) (0.1.2)\n"
     ]
    }
   ],
   "source": [
    "!pip install --upgrade keras"
   ]
  },
  {
   "cell_type": "markdown",
   "metadata": {
    "id": "9tUgjuzjsSll"
   },
   "source": [
    "## Imports"
   ]
  },
  {
   "cell_type": "code",
   "execution_count": 5,
   "metadata": {
    "id": "ffniv9lAsSll"
   },
   "outputs": [
    {
     "name": "stderr",
     "output_type": "stream",
     "text": [
      "2024-07-29 18:35:04.491066: E external/local_xla/xla/stream_executor/cuda/cuda_fft.cc:485] Unable to register cuFFT factory: Attempting to register factory for plugin cuFFT when one has already been registered\n",
      "2024-07-29 18:35:04.503194: E external/local_xla/xla/stream_executor/cuda/cuda_dnn.cc:8454] Unable to register cuDNN factory: Attempting to register factory for plugin cuDNN when one has already been registered\n",
      "2024-07-29 18:35:04.506799: E external/local_xla/xla/stream_executor/cuda/cuda_blas.cc:1452] Unable to register cuBLAS factory: Attempting to register factory for plugin cuBLAS when one has already been registered\n",
      "2024-07-29 18:35:04.516709: I tensorflow/core/platform/cpu_feature_guard.cc:210] This TensorFlow binary is optimized to use available CPU instructions in performance-critical operations.\n",
      "To enable the following instructions: AVX2 FMA, in other operations, rebuild TensorFlow with the appropriate compiler flags.\n",
      "2024-07-29 18:35:05.277700: W tensorflow/compiler/tf2tensorrt/utils/py_utils.cc:38] TF-TRT Warning: Could not find TensorRT\n"
     ]
    }
   ],
   "source": [
    "import keras\n",
    "\n",
    "from keras import layers\n",
    "from keras import ops\n",
    "from tensorflow_docs.vis import embed\n",
    "import tensorflow as tf\n",
    "import numpy as np\n",
    "import imageio"
   ]
  },
  {
   "cell_type": "markdown",
   "metadata": {
    "id": "1dt318RasSlm"
   },
   "source": [
    "## Constants and hyperparameters"
   ]
  },
  {
   "cell_type": "code",
   "execution_count": 11,
   "metadata": {
    "id": "bjLF__LcsSlm"
   },
   "outputs": [],
   "source": [
    "batch_size = 64\n",
    "num_channels = 1\n",
    "num_classes = 10\n",
    "image_size = 28\n",
    "latent_dim = 128"
   ]
  },
  {
   "cell_type": "markdown",
   "metadata": {
    "id": "Fkb9i1BbsSlm"
   },
   "source": [
    "## Loading the MNIST dataset and preprocessing it"
   ]
  },
  {
   "cell_type": "code",
   "execution_count": 12,
   "metadata": {
    "colab": {
     "base_uri": "https://localhost:8080/"
    },
    "id": "fcW0HDsCsSlm",
    "outputId": "1c02a763-52de-4c10-f993-f1a6a76c236b"
   },
   "outputs": [
    {
     "name": "stdout",
     "output_type": "stream",
     "text": [
      "Shape of training images: (70000, 28, 28, 1)\n",
      "Shape of training labels: (70000, 10)\n"
     ]
    }
   ],
   "source": [
    "# We'll use all the available examples from both the training and test\n",
    "# sets.\n",
    "(x_train, y_train), (x_test, y_test) = keras.datasets.mnist.load_data()\n",
    "all_digits = np.concatenate([x_train, x_test])\n",
    "all_labels = np.concatenate([y_train, y_test])\n",
    "\n",
    "# Scale the pixel values to [0, 1] range, add a channel dimension to\n",
    "# the images, and one-hot encode the labels.\n",
    "all_digits = all_digits.astype(\"float32\") / 255.0\n",
    "all_digits = np.reshape(all_digits, (-1, 28, 28, 1))\n",
    "all_labels = keras.utils.to_categorical(all_labels, 10)\n",
    "\n",
    "# Create tf.data.Dataset.\n",
    "dataset = tf.data.Dataset.from_tensor_slices((all_digits, all_labels))\n",
    "dataset = dataset.shuffle(buffer_size=1024).batch(batch_size)\n",
    "\n",
    "print(f\"Shape of training images: {all_digits.shape}\")\n",
    "print(f\"Shape of training labels: {all_labels.shape}\")"
   ]
  },
  {
   "cell_type": "markdown",
   "metadata": {},
   "source": [
    "## Conditional GAN\n",
    "\n",
    "Generative Adversarial Networks (GANs) ermöglichen es uns, neue Bild-, Video- oder Audiodaten aus einem zufälligen Eingabewert zu generieren. Typischerweise wird die zufällige Eingabe aus einer Normalverteilung entnommen, bevor sie eine Reihe von Transformationen durchläuft, die sie in etwas Plausibles verwandeln (Bild, Video, Audio usw.).\n",
    "\n",
    "Ein einfacher [DCGAN](https://arxiv.org/abs/1511.06434) lässt uns jedoch nicht das Erscheinungsbild (z.B. die Klasse) der generierten Proben steuern. Bei einem GAN, das MNIST-Handschriftziffern generiert, würde ein einfacher DCGAN uns beispielsweise nicht erlauben, die Klasse der zu generierenden Ziffern auszuwählen. Um steuern zu können, was wir generieren, müssen wir die GAN-Ausgabe an eine semantische Eingabe, wie die Klasse eines Bildes, koppeln.\n",
    "\n",
    "In diesem Beispiel bauen wir ein **Conditional GAN**, das MNIST-Handschriftziffern erzeugen kann, die auf einer gegebenen Klasse basieren. Ein solches Modell kann verschiedene nützliche Anwendungen haben:\n",
    "\n",
    "* Angenommen, Sie haben es mit einem [unausgeglichenen Bilddatensatz](https://developers.google.com/machine-learning/data-prep/construct/sampling-splitting/imbalanced-data) zu tun und möchten mehr Beispiele für die unterrepräsentierte Klasse sammeln, um den Datensatz auszugleichen. Die Datenerfassung kann ein kostspieliger Prozess sein. Stattdessen könnten Sie ein Conditional GAN trainieren und es verwenden, um neue Bilder für die Klasse zu generieren, die ausgeglichen werden muss.\n",
    "* Da der Generator lernt, die generierten Proben mit den Klassenlabels zu verknüpfen, können seine Repräsentationen auch für [andere nachgelagerte Aufgaben](https://arxiv.org/abs/1809.11096) verwendet werden.\n",
    "\n",
    "Folgende Referenzen wurden für die Entwicklung dieses Beispiels verwendet:\n",
    "\n",
    "* [Conditional Generative Adversarial Nets](https://arxiv.org/abs/1411.1784)\n",
    "* [Vorlesung über bedingte Generierung auf Coursera](https://www.coursera.org/lecture/build-basic-generative-adversarial-networks-gans/conditional-generation-inputs-2OPrG)\n",
    "\n",
    "Wenn Sie eine Auffrischung zu GANs benötigen, können Sie den Abschnitt \"Generative adversarial networks\" in [dieser Ressource](https://livebook.manning.com/book/deep-learning-with-python-second-edition/chapter-12/r-3/232) nachlesen.\n",
    "\n",
    "Dieses Beispiel erfordert TensorFlow 2.5 oder höher sowie TensorFlow Docs, die mit dem folgenden Befehl installiert werden können:"
   ]
  },
  {
   "cell_type": "markdown",
   "metadata": {
    "id": "olDDNhlGsSlm"
   },
   "source": [
    "## Calculating the number of input channel for the generator and discriminator\n",
    "\n",
    "In a regular (unconditional) GAN, we start by sampling noise (of some fixed\n",
    "dimension) from a normal distribution. In our case, we also need to account\n",
    "for the class labels. We will have to add the number of classes to\n",
    "the input channels of the generator (noise input) as well as the discriminator\n",
    "(generated image input)."
   ]
  },
  {
   "cell_type": "code",
   "execution_count": 13,
   "metadata": {
    "colab": {
     "base_uri": "https://localhost:8080/"
    },
    "id": "EYNU38VKsSln",
    "outputId": "54e2ef6b-f7ea-46c7-80a5-e4e8bf67a1f3"
   },
   "outputs": [
    {
     "name": "stdout",
     "output_type": "stream",
     "text": [
      "138 11\n"
     ]
    }
   ],
   "source": [
    "generator_in_channels = latent_dim + num_classes\n",
    "discriminator_in_channels = num_channels + num_classes\n",
    "print(generator_in_channels, discriminator_in_channels)"
   ]
  },
  {
   "cell_type": "markdown",
   "metadata": {
    "id": "DqzIp2FssSln"
   },
   "source": [
    "## Creating the discriminator and generator\n",
    "\n",
    "The model definitions (`discriminator`, `generator`, and `ConditionalGAN`) have been\n",
    "adapted from [this example](https://keras.io/guides/customizing_what_happens_in_fit/)."
   ]
  },
  {
   "cell_type": "code",
   "execution_count": 14,
   "metadata": {
    "id": "OyxpVCwlsSln"
   },
   "outputs": [],
   "source": [
    "# Create the discriminator.\n",
    "discriminator = keras.Sequential(\n",
    "    [\n",
    "        keras.layers.InputLayer((28, 28, discriminator_in_channels)),\n",
    "        layers.Conv2D(64, (3, 3), strides=(2, 2), padding=\"same\"),\n",
    "        layers.LeakyReLU(negative_slope=0.2),\n",
    "        layers.Conv2D(128, (3, 3), strides=(2, 2), padding=\"same\"),\n",
    "        layers.LeakyReLU(negative_slope=0.2),\n",
    "        layers.GlobalMaxPooling2D(),\n",
    "        layers.Dense(1),\n",
    "    ],\n",
    "    name=\"discriminator\",\n",
    ")\n",
    "\n",
    "# Create the generator.\n",
    "generator = keras.Sequential(\n",
    "    [\n",
    "        keras.layers.InputLayer((generator_in_channels,)),\n",
    "        # We want to generate 128 + num_classes coefficients to reshape into a\n",
    "        # 7x7x(128 + num_classes) map.\n",
    "        layers.Dense(7 * 7 * generator_in_channels),\n",
    "        layers.LeakyReLU(negative_slope=0.2),\n",
    "        layers.Reshape((7, 7, generator_in_channels)),\n",
    "        layers.Conv2DTranspose(128, (4, 4), strides=(2, 2), padding=\"same\"),\n",
    "        layers.LeakyReLU(negative_slope=0.2),\n",
    "        layers.Conv2DTranspose(128, (4, 4), strides=(2, 2), padding=\"same\"),\n",
    "        layers.LeakyReLU(negative_slope=0.2),\n",
    "        layers.Conv2D(1, (7, 7), padding=\"same\", activation=\"sigmoid\"),\n",
    "    ],\n",
    "    name=\"generator\",\n",
    ")"
   ]
  },
  {
   "cell_type": "markdown",
   "metadata": {
    "id": "ByyzcDT9sSln"
   },
   "source": [
    "## Creating a `ConditionalGAN` model"
   ]
  },
  {
   "cell_type": "code",
   "execution_count": 15,
   "metadata": {
    "id": "j38gQPYGsSln"
   },
   "outputs": [],
   "source": [
    "\n",
    "class ConditionalGAN(keras.Model):\n",
    "    def __init__(self, discriminator, generator, latent_dim):\n",
    "        super().__init__()\n",
    "        self.discriminator = discriminator\n",
    "        self.generator = generator\n",
    "        self.latent_dim = latent_dim\n",
    "        self.seed_generator = keras.random.SeedGenerator(1337)\n",
    "        self.gen_loss_tracker = keras.metrics.Mean(name=\"generator_loss\")\n",
    "        self.disc_loss_tracker = keras.metrics.Mean(name=\"discriminator_loss\")\n",
    "\n",
    "    @property\n",
    "    def metrics(self):\n",
    "        return [self.gen_loss_tracker, self.disc_loss_tracker]\n",
    "\n",
    "    def compile(self, d_optimizer, g_optimizer, loss_fn):\n",
    "        super().compile()\n",
    "        self.d_optimizer = d_optimizer\n",
    "        self.g_optimizer = g_optimizer\n",
    "        self.loss_fn = loss_fn\n",
    "\n",
    "    def train_step(self, data):\n",
    "        # Unpack the data.\n",
    "        real_images, one_hot_labels = data\n",
    "\n",
    "        # Add dummy dimensions to the labels so that they can be concatenated with\n",
    "        # the images. This is for the discriminator.\n",
    "        image_one_hot_labels = one_hot_labels[:, :, None, None]\n",
    "        image_one_hot_labels = ops.repeat(\n",
    "            image_one_hot_labels, repeats=[image_size * image_size]\n",
    "        )\n",
    "        image_one_hot_labels = ops.reshape(\n",
    "            image_one_hot_labels, (-1, image_size, image_size, num_classes)\n",
    "        )\n",
    "\n",
    "        # Sample random points in the latent space and concatenate the labels.\n",
    "        # This is for the generator.\n",
    "        batch_size = ops.shape(real_images)[0]\n",
    "        random_latent_vectors = keras.random.normal(\n",
    "            shape=(batch_size, self.latent_dim), seed=self.seed_generator\n",
    "        )\n",
    "        random_vector_labels = ops.concatenate(\n",
    "            [random_latent_vectors, one_hot_labels], axis=1\n",
    "        )\n",
    "\n",
    "        # Decode the noise (guided by labels) to fake images.\n",
    "        generated_images = self.generator(random_vector_labels)\n",
    "\n",
    "        # Combine them with real images. Note that we are concatenating the labels\n",
    "        # with these images here.\n",
    "        fake_image_and_labels = ops.concatenate(\n",
    "            [generated_images, image_one_hot_labels], -1\n",
    "        )\n",
    "        real_image_and_labels = ops.concatenate([real_images, image_one_hot_labels], -1)\n",
    "        combined_images = ops.concatenate(\n",
    "            [fake_image_and_labels, real_image_and_labels], axis=0\n",
    "        )\n",
    "\n",
    "        # Assemble labels discriminating real from fake images.\n",
    "        labels = ops.concatenate(\n",
    "            [ops.ones((batch_size, 1)), ops.zeros((batch_size, 1))], axis=0\n",
    "        )\n",
    "\n",
    "        # Train the discriminator.\n",
    "        with tf.GradientTape() as tape:\n",
    "            predictions = self.discriminator(combined_images)\n",
    "            d_loss = self.loss_fn(labels, predictions)\n",
    "        grads = tape.gradient(d_loss, self.discriminator.trainable_weights)\n",
    "        self.d_optimizer.apply_gradients(\n",
    "            zip(grads, self.discriminator.trainable_weights)\n",
    "        )\n",
    "\n",
    "        # Sample random points in the latent space.\n",
    "        random_latent_vectors = keras.random.normal(\n",
    "            shape=(batch_size, self.latent_dim), seed=self.seed_generator\n",
    "        )\n",
    "        random_vector_labels = ops.concatenate(\n",
    "            [random_latent_vectors, one_hot_labels], axis=1\n",
    "        )\n",
    "\n",
    "        # Assemble labels that say \"all real images\".\n",
    "        misleading_labels = ops.zeros((batch_size, 1))\n",
    "\n",
    "        # Train the generator (note that we should *not* update the weights\n",
    "        # of the discriminator)!\n",
    "        with tf.GradientTape() as tape:\n",
    "            fake_images = self.generator(random_vector_labels)\n",
    "            fake_image_and_labels = ops.concatenate(\n",
    "                [fake_images, image_one_hot_labels], -1\n",
    "            )\n",
    "            predictions = self.discriminator(fake_image_and_labels)\n",
    "            g_loss = self.loss_fn(misleading_labels, predictions)\n",
    "        grads = tape.gradient(g_loss, self.generator.trainable_weights)\n",
    "        self.g_optimizer.apply_gradients(zip(grads, self.generator.trainable_weights))\n",
    "\n",
    "        # Monitor loss.\n",
    "        self.gen_loss_tracker.update_state(g_loss)\n",
    "        self.disc_loss_tracker.update_state(d_loss)\n",
    "        return {\n",
    "            \"g_loss\": self.gen_loss_tracker.result(),\n",
    "            \"d_loss\": self.disc_loss_tracker.result(),\n",
    "        }\n"
   ]
  },
  {
   "cell_type": "markdown",
   "metadata": {
    "id": "H8jmRlFJsSlo"
   },
   "source": [
    "## Training the Conditional GAN"
   ]
  },
  {
   "cell_type": "code",
   "execution_count": 16,
   "metadata": {
    "colab": {
     "base_uri": "https://localhost:8080/"
    },
    "id": "OKDrShPbsSlo",
    "outputId": "b88926ac-043e-4af5-8d15-19b20a7417e1"
   },
   "outputs": [
    {
     "name": "stdout",
     "output_type": "stream",
     "text": [
      "Epoch 1/20\n",
      "\u001b[1m  36/1094\u001b[0m \u001b[37m━━━━━━━━━━━━━━━━━━━━\u001b[0m \u001b[1m6:53\u001b[0m 391ms/step - d_loss: 0.6520 - g_loss: 0.7708"
     ]
    },
    {
     "ename": "KeyboardInterrupt",
     "evalue": "",
     "output_type": "error",
     "traceback": [
      "\u001b[0;31m---------------------------------------------------------------------------\u001b[0m",
      "\u001b[0;31mKeyboardInterrupt\u001b[0m                         Traceback (most recent call last)",
      "Cell \u001b[0;32mIn[16], line 10\u001b[0m\n\u001b[1;32m      1\u001b[0m cond_gan \u001b[38;5;241m=\u001b[39m ConditionalGAN(\n\u001b[1;32m      2\u001b[0m     discriminator\u001b[38;5;241m=\u001b[39mdiscriminator, generator\u001b[38;5;241m=\u001b[39mgenerator, latent_dim\u001b[38;5;241m=\u001b[39mlatent_dim\n\u001b[1;32m      3\u001b[0m )\n\u001b[1;32m      4\u001b[0m cond_gan\u001b[38;5;241m.\u001b[39mcompile(\n\u001b[1;32m      5\u001b[0m     d_optimizer\u001b[38;5;241m=\u001b[39mkeras\u001b[38;5;241m.\u001b[39moptimizers\u001b[38;5;241m.\u001b[39mAdam(learning_rate\u001b[38;5;241m=\u001b[39m\u001b[38;5;241m0.0003\u001b[39m),\n\u001b[1;32m      6\u001b[0m     g_optimizer\u001b[38;5;241m=\u001b[39mkeras\u001b[38;5;241m.\u001b[39moptimizers\u001b[38;5;241m.\u001b[39mAdam(learning_rate\u001b[38;5;241m=\u001b[39m\u001b[38;5;241m0.0003\u001b[39m),\n\u001b[1;32m      7\u001b[0m     loss_fn\u001b[38;5;241m=\u001b[39mkeras\u001b[38;5;241m.\u001b[39mlosses\u001b[38;5;241m.\u001b[39mBinaryCrossentropy(from_logits\u001b[38;5;241m=\u001b[39m\u001b[38;5;28;01mTrue\u001b[39;00m),\n\u001b[1;32m      8\u001b[0m )\n\u001b[0;32m---> 10\u001b[0m cond_gan\u001b[38;5;241m.\u001b[39mfit(dataset, epochs\u001b[38;5;241m=\u001b[39m\u001b[38;5;241m20\u001b[39m)\n",
      "File \u001b[0;32m~/Applications/anaconda3/lib/python3.11/site-packages/keras/src/utils/traceback_utils.py:117\u001b[0m, in \u001b[0;36mfilter_traceback.<locals>.error_handler\u001b[0;34m(*args, **kwargs)\u001b[0m\n\u001b[1;32m    115\u001b[0m filtered_tb \u001b[38;5;241m=\u001b[39m \u001b[38;5;28;01mNone\u001b[39;00m\n\u001b[1;32m    116\u001b[0m \u001b[38;5;28;01mtry\u001b[39;00m:\n\u001b[0;32m--> 117\u001b[0m     \u001b[38;5;28;01mreturn\u001b[39;00m fn(\u001b[38;5;241m*\u001b[39margs, \u001b[38;5;241m*\u001b[39m\u001b[38;5;241m*\u001b[39mkwargs)\n\u001b[1;32m    118\u001b[0m \u001b[38;5;28;01mexcept\u001b[39;00m \u001b[38;5;167;01mException\u001b[39;00m \u001b[38;5;28;01mas\u001b[39;00m e:\n\u001b[1;32m    119\u001b[0m     filtered_tb \u001b[38;5;241m=\u001b[39m _process_traceback_frames(e\u001b[38;5;241m.\u001b[39m__traceback__)\n",
      "File \u001b[0;32m~/Applications/anaconda3/lib/python3.11/site-packages/keras/src/backend/tensorflow/trainer.py:318\u001b[0m, in \u001b[0;36mTensorFlowTrainer.fit\u001b[0;34m(self, x, y, batch_size, epochs, verbose, callbacks, validation_split, validation_data, shuffle, class_weight, sample_weight, initial_epoch, steps_per_epoch, validation_steps, validation_batch_size, validation_freq)\u001b[0m\n\u001b[1;32m    316\u001b[0m \u001b[38;5;28;01mfor\u001b[39;00m step, iterator \u001b[38;5;129;01min\u001b[39;00m epoch_iterator\u001b[38;5;241m.\u001b[39menumerate_epoch():\n\u001b[1;32m    317\u001b[0m     callbacks\u001b[38;5;241m.\u001b[39mon_train_batch_begin(step)\n\u001b[0;32m--> 318\u001b[0m     logs \u001b[38;5;241m=\u001b[39m \u001b[38;5;28mself\u001b[39m\u001b[38;5;241m.\u001b[39mtrain_function(iterator)\n\u001b[1;32m    319\u001b[0m     logs \u001b[38;5;241m=\u001b[39m \u001b[38;5;28mself\u001b[39m\u001b[38;5;241m.\u001b[39m_pythonify_logs(logs)\n\u001b[1;32m    320\u001b[0m     callbacks\u001b[38;5;241m.\u001b[39mon_train_batch_end(step, logs)\n",
      "File \u001b[0;32m~/Applications/anaconda3/lib/python3.11/site-packages/tensorflow/python/util/traceback_utils.py:150\u001b[0m, in \u001b[0;36mfilter_traceback.<locals>.error_handler\u001b[0;34m(*args, **kwargs)\u001b[0m\n\u001b[1;32m    148\u001b[0m filtered_tb \u001b[38;5;241m=\u001b[39m \u001b[38;5;28;01mNone\u001b[39;00m\n\u001b[1;32m    149\u001b[0m \u001b[38;5;28;01mtry\u001b[39;00m:\n\u001b[0;32m--> 150\u001b[0m   \u001b[38;5;28;01mreturn\u001b[39;00m fn(\u001b[38;5;241m*\u001b[39margs, \u001b[38;5;241m*\u001b[39m\u001b[38;5;241m*\u001b[39mkwargs)\n\u001b[1;32m    151\u001b[0m \u001b[38;5;28;01mexcept\u001b[39;00m \u001b[38;5;167;01mException\u001b[39;00m \u001b[38;5;28;01mas\u001b[39;00m e:\n\u001b[1;32m    152\u001b[0m   filtered_tb \u001b[38;5;241m=\u001b[39m _process_traceback_frames(e\u001b[38;5;241m.\u001b[39m__traceback__)\n",
      "File \u001b[0;32m~/Applications/anaconda3/lib/python3.11/site-packages/tensorflow/python/eager/polymorphic_function/polymorphic_function.py:833\u001b[0m, in \u001b[0;36mFunction.__call__\u001b[0;34m(self, *args, **kwds)\u001b[0m\n\u001b[1;32m    830\u001b[0m compiler \u001b[38;5;241m=\u001b[39m \u001b[38;5;124m\"\u001b[39m\u001b[38;5;124mxla\u001b[39m\u001b[38;5;124m\"\u001b[39m \u001b[38;5;28;01mif\u001b[39;00m \u001b[38;5;28mself\u001b[39m\u001b[38;5;241m.\u001b[39m_jit_compile \u001b[38;5;28;01melse\u001b[39;00m \u001b[38;5;124m\"\u001b[39m\u001b[38;5;124mnonXla\u001b[39m\u001b[38;5;124m\"\u001b[39m\n\u001b[1;32m    832\u001b[0m \u001b[38;5;28;01mwith\u001b[39;00m OptionalXlaContext(\u001b[38;5;28mself\u001b[39m\u001b[38;5;241m.\u001b[39m_jit_compile):\n\u001b[0;32m--> 833\u001b[0m   result \u001b[38;5;241m=\u001b[39m \u001b[38;5;28mself\u001b[39m\u001b[38;5;241m.\u001b[39m_call(\u001b[38;5;241m*\u001b[39margs, \u001b[38;5;241m*\u001b[39m\u001b[38;5;241m*\u001b[39mkwds)\n\u001b[1;32m    835\u001b[0m new_tracing_count \u001b[38;5;241m=\u001b[39m \u001b[38;5;28mself\u001b[39m\u001b[38;5;241m.\u001b[39mexperimental_get_tracing_count()\n\u001b[1;32m    836\u001b[0m without_tracing \u001b[38;5;241m=\u001b[39m (tracing_count \u001b[38;5;241m==\u001b[39m new_tracing_count)\n",
      "File \u001b[0;32m~/Applications/anaconda3/lib/python3.11/site-packages/tensorflow/python/eager/polymorphic_function/polymorphic_function.py:878\u001b[0m, in \u001b[0;36mFunction._call\u001b[0;34m(self, *args, **kwds)\u001b[0m\n\u001b[1;32m    875\u001b[0m \u001b[38;5;28mself\u001b[39m\u001b[38;5;241m.\u001b[39m_lock\u001b[38;5;241m.\u001b[39mrelease()\n\u001b[1;32m    876\u001b[0m \u001b[38;5;66;03m# In this case we have not created variables on the first call. So we can\u001b[39;00m\n\u001b[1;32m    877\u001b[0m \u001b[38;5;66;03m# run the first trace but we should fail if variables are created.\u001b[39;00m\n\u001b[0;32m--> 878\u001b[0m results \u001b[38;5;241m=\u001b[39m tracing_compilation\u001b[38;5;241m.\u001b[39mcall_function(\n\u001b[1;32m    879\u001b[0m     args, kwds, \u001b[38;5;28mself\u001b[39m\u001b[38;5;241m.\u001b[39m_variable_creation_config\n\u001b[1;32m    880\u001b[0m )\n\u001b[1;32m    881\u001b[0m \u001b[38;5;28;01mif\u001b[39;00m \u001b[38;5;28mself\u001b[39m\u001b[38;5;241m.\u001b[39m_created_variables:\n\u001b[1;32m    882\u001b[0m   \u001b[38;5;28;01mraise\u001b[39;00m \u001b[38;5;167;01mValueError\u001b[39;00m(\u001b[38;5;124m\"\u001b[39m\u001b[38;5;124mCreating variables on a non-first call to a function\u001b[39m\u001b[38;5;124m\"\u001b[39m\n\u001b[1;32m    883\u001b[0m                    \u001b[38;5;124m\"\u001b[39m\u001b[38;5;124m decorated with tf.function.\u001b[39m\u001b[38;5;124m\"\u001b[39m)\n",
      "File \u001b[0;32m~/Applications/anaconda3/lib/python3.11/site-packages/tensorflow/python/eager/polymorphic_function/tracing_compilation.py:139\u001b[0m, in \u001b[0;36mcall_function\u001b[0;34m(args, kwargs, tracing_options)\u001b[0m\n\u001b[1;32m    137\u001b[0m bound_args \u001b[38;5;241m=\u001b[39m function\u001b[38;5;241m.\u001b[39mfunction_type\u001b[38;5;241m.\u001b[39mbind(\u001b[38;5;241m*\u001b[39margs, \u001b[38;5;241m*\u001b[39m\u001b[38;5;241m*\u001b[39mkwargs)\n\u001b[1;32m    138\u001b[0m flat_inputs \u001b[38;5;241m=\u001b[39m function\u001b[38;5;241m.\u001b[39mfunction_type\u001b[38;5;241m.\u001b[39munpack_inputs(bound_args)\n\u001b[0;32m--> 139\u001b[0m \u001b[38;5;28;01mreturn\u001b[39;00m function\u001b[38;5;241m.\u001b[39m_call_flat(  \u001b[38;5;66;03m# pylint: disable=protected-access\u001b[39;00m\n\u001b[1;32m    140\u001b[0m     flat_inputs, captured_inputs\u001b[38;5;241m=\u001b[39mfunction\u001b[38;5;241m.\u001b[39mcaptured_inputs\n\u001b[1;32m    141\u001b[0m )\n",
      "File \u001b[0;32m~/Applications/anaconda3/lib/python3.11/site-packages/tensorflow/python/eager/polymorphic_function/concrete_function.py:1322\u001b[0m, in \u001b[0;36mConcreteFunction._call_flat\u001b[0;34m(self, tensor_inputs, captured_inputs)\u001b[0m\n\u001b[1;32m   1318\u001b[0m possible_gradient_type \u001b[38;5;241m=\u001b[39m gradients_util\u001b[38;5;241m.\u001b[39mPossibleTapeGradientTypes(args)\n\u001b[1;32m   1319\u001b[0m \u001b[38;5;28;01mif\u001b[39;00m (possible_gradient_type \u001b[38;5;241m==\u001b[39m gradients_util\u001b[38;5;241m.\u001b[39mPOSSIBLE_GRADIENT_TYPES_NONE\n\u001b[1;32m   1320\u001b[0m     \u001b[38;5;129;01mand\u001b[39;00m executing_eagerly):\n\u001b[1;32m   1321\u001b[0m   \u001b[38;5;66;03m# No tape is watching; skip to running the function.\u001b[39;00m\n\u001b[0;32m-> 1322\u001b[0m   \u001b[38;5;28;01mreturn\u001b[39;00m \u001b[38;5;28mself\u001b[39m\u001b[38;5;241m.\u001b[39m_inference_function\u001b[38;5;241m.\u001b[39mcall_preflattened(args)\n\u001b[1;32m   1323\u001b[0m forward_backward \u001b[38;5;241m=\u001b[39m \u001b[38;5;28mself\u001b[39m\u001b[38;5;241m.\u001b[39m_select_forward_and_backward_functions(\n\u001b[1;32m   1324\u001b[0m     args,\n\u001b[1;32m   1325\u001b[0m     possible_gradient_type,\n\u001b[1;32m   1326\u001b[0m     executing_eagerly)\n\u001b[1;32m   1327\u001b[0m forward_function, args_with_tangents \u001b[38;5;241m=\u001b[39m forward_backward\u001b[38;5;241m.\u001b[39mforward()\n",
      "File \u001b[0;32m~/Applications/anaconda3/lib/python3.11/site-packages/tensorflow/python/eager/polymorphic_function/atomic_function.py:216\u001b[0m, in \u001b[0;36mAtomicFunction.call_preflattened\u001b[0;34m(self, args)\u001b[0m\n\u001b[1;32m    214\u001b[0m \u001b[38;5;28;01mdef\u001b[39;00m \u001b[38;5;21mcall_preflattened\u001b[39m(\u001b[38;5;28mself\u001b[39m, args: Sequence[core\u001b[38;5;241m.\u001b[39mTensor]) \u001b[38;5;241m-\u001b[39m\u001b[38;5;241m>\u001b[39m Any:\n\u001b[1;32m    215\u001b[0m \u001b[38;5;250m  \u001b[39m\u001b[38;5;124;03m\"\"\"Calls with flattened tensor inputs and returns the structured output.\"\"\"\u001b[39;00m\n\u001b[0;32m--> 216\u001b[0m   flat_outputs \u001b[38;5;241m=\u001b[39m \u001b[38;5;28mself\u001b[39m\u001b[38;5;241m.\u001b[39mcall_flat(\u001b[38;5;241m*\u001b[39margs)\n\u001b[1;32m    217\u001b[0m   \u001b[38;5;28;01mreturn\u001b[39;00m \u001b[38;5;28mself\u001b[39m\u001b[38;5;241m.\u001b[39mfunction_type\u001b[38;5;241m.\u001b[39mpack_output(flat_outputs)\n",
      "File \u001b[0;32m~/Applications/anaconda3/lib/python3.11/site-packages/tensorflow/python/eager/polymorphic_function/atomic_function.py:251\u001b[0m, in \u001b[0;36mAtomicFunction.call_flat\u001b[0;34m(self, *args)\u001b[0m\n\u001b[1;32m    249\u001b[0m \u001b[38;5;28;01mwith\u001b[39;00m record\u001b[38;5;241m.\u001b[39mstop_recording():\n\u001b[1;32m    250\u001b[0m   \u001b[38;5;28;01mif\u001b[39;00m \u001b[38;5;28mself\u001b[39m\u001b[38;5;241m.\u001b[39m_bound_context\u001b[38;5;241m.\u001b[39mexecuting_eagerly():\n\u001b[0;32m--> 251\u001b[0m     outputs \u001b[38;5;241m=\u001b[39m \u001b[38;5;28mself\u001b[39m\u001b[38;5;241m.\u001b[39m_bound_context\u001b[38;5;241m.\u001b[39mcall_function(\n\u001b[1;32m    252\u001b[0m         \u001b[38;5;28mself\u001b[39m\u001b[38;5;241m.\u001b[39mname,\n\u001b[1;32m    253\u001b[0m         \u001b[38;5;28mlist\u001b[39m(args),\n\u001b[1;32m    254\u001b[0m         \u001b[38;5;28mlen\u001b[39m(\u001b[38;5;28mself\u001b[39m\u001b[38;5;241m.\u001b[39mfunction_type\u001b[38;5;241m.\u001b[39mflat_outputs),\n\u001b[1;32m    255\u001b[0m     )\n\u001b[1;32m    256\u001b[0m   \u001b[38;5;28;01melse\u001b[39;00m:\n\u001b[1;32m    257\u001b[0m     outputs \u001b[38;5;241m=\u001b[39m make_call_op_in_graph(\n\u001b[1;32m    258\u001b[0m         \u001b[38;5;28mself\u001b[39m,\n\u001b[1;32m    259\u001b[0m         \u001b[38;5;28mlist\u001b[39m(args),\n\u001b[1;32m    260\u001b[0m         \u001b[38;5;28mself\u001b[39m\u001b[38;5;241m.\u001b[39m_bound_context\u001b[38;5;241m.\u001b[39mfunction_call_options\u001b[38;5;241m.\u001b[39mas_attrs(),\n\u001b[1;32m    261\u001b[0m     )\n",
      "File \u001b[0;32m~/Applications/anaconda3/lib/python3.11/site-packages/tensorflow/python/eager/context.py:1552\u001b[0m, in \u001b[0;36mContext.call_function\u001b[0;34m(self, name, tensor_inputs, num_outputs)\u001b[0m\n\u001b[1;32m   1550\u001b[0m cancellation_context \u001b[38;5;241m=\u001b[39m cancellation\u001b[38;5;241m.\u001b[39mcontext()\n\u001b[1;32m   1551\u001b[0m \u001b[38;5;28;01mif\u001b[39;00m cancellation_context \u001b[38;5;129;01mis\u001b[39;00m \u001b[38;5;28;01mNone\u001b[39;00m:\n\u001b[0;32m-> 1552\u001b[0m   outputs \u001b[38;5;241m=\u001b[39m execute\u001b[38;5;241m.\u001b[39mexecute(\n\u001b[1;32m   1553\u001b[0m       name\u001b[38;5;241m.\u001b[39mdecode(\u001b[38;5;124m\"\u001b[39m\u001b[38;5;124mutf-8\u001b[39m\u001b[38;5;124m\"\u001b[39m),\n\u001b[1;32m   1554\u001b[0m       num_outputs\u001b[38;5;241m=\u001b[39mnum_outputs,\n\u001b[1;32m   1555\u001b[0m       inputs\u001b[38;5;241m=\u001b[39mtensor_inputs,\n\u001b[1;32m   1556\u001b[0m       attrs\u001b[38;5;241m=\u001b[39mattrs,\n\u001b[1;32m   1557\u001b[0m       ctx\u001b[38;5;241m=\u001b[39m\u001b[38;5;28mself\u001b[39m,\n\u001b[1;32m   1558\u001b[0m   )\n\u001b[1;32m   1559\u001b[0m \u001b[38;5;28;01melse\u001b[39;00m:\n\u001b[1;32m   1560\u001b[0m   outputs \u001b[38;5;241m=\u001b[39m execute\u001b[38;5;241m.\u001b[39mexecute_with_cancellation(\n\u001b[1;32m   1561\u001b[0m       name\u001b[38;5;241m.\u001b[39mdecode(\u001b[38;5;124m\"\u001b[39m\u001b[38;5;124mutf-8\u001b[39m\u001b[38;5;124m\"\u001b[39m),\n\u001b[1;32m   1562\u001b[0m       num_outputs\u001b[38;5;241m=\u001b[39mnum_outputs,\n\u001b[0;32m   (...)\u001b[0m\n\u001b[1;32m   1566\u001b[0m       cancellation_manager\u001b[38;5;241m=\u001b[39mcancellation_context,\n\u001b[1;32m   1567\u001b[0m   )\n",
      "File \u001b[0;32m~/Applications/anaconda3/lib/python3.11/site-packages/tensorflow/python/eager/execute.py:53\u001b[0m, in \u001b[0;36mquick_execute\u001b[0;34m(op_name, num_outputs, inputs, attrs, ctx, name)\u001b[0m\n\u001b[1;32m     51\u001b[0m \u001b[38;5;28;01mtry\u001b[39;00m:\n\u001b[1;32m     52\u001b[0m   ctx\u001b[38;5;241m.\u001b[39mensure_initialized()\n\u001b[0;32m---> 53\u001b[0m   tensors \u001b[38;5;241m=\u001b[39m pywrap_tfe\u001b[38;5;241m.\u001b[39mTFE_Py_Execute(ctx\u001b[38;5;241m.\u001b[39m_handle, device_name, op_name,\n\u001b[1;32m     54\u001b[0m                                       inputs, attrs, num_outputs)\n\u001b[1;32m     55\u001b[0m \u001b[38;5;28;01mexcept\u001b[39;00m core\u001b[38;5;241m.\u001b[39m_NotOkStatusException \u001b[38;5;28;01mas\u001b[39;00m e:\n\u001b[1;32m     56\u001b[0m   \u001b[38;5;28;01mif\u001b[39;00m name \u001b[38;5;129;01mis\u001b[39;00m \u001b[38;5;129;01mnot\u001b[39;00m \u001b[38;5;28;01mNone\u001b[39;00m:\n",
      "\u001b[0;31mKeyboardInterrupt\u001b[0m: "
     ]
    }
   ],
   "source": [
    "cond_gan = ConditionalGAN(\n",
    "    discriminator=discriminator, generator=generator, latent_dim=latent_dim\n",
    ")\n",
    "cond_gan.compile(\n",
    "    d_optimizer=keras.optimizers.Adam(learning_rate=0.0003),\n",
    "    g_optimizer=keras.optimizers.Adam(learning_rate=0.0003),\n",
    "    loss_fn=keras.losses.BinaryCrossentropy(from_logits=True),\n",
    ")\n",
    "\n",
    "cond_gan.fit(dataset, epochs=20)"
   ]
  },
  {
   "cell_type": "markdown",
   "metadata": {
    "id": "_WnlqoJBsSlo"
   },
   "source": [
    "## Interpolating between classes with the trained generator"
   ]
  },
  {
   "cell_type": "code",
   "execution_count": null,
   "metadata": {
    "colab": {
     "base_uri": "https://localhost:8080/"
    },
    "id": "P4pePrOUsSlo",
    "outputId": "aa77d25b-a6b7-4aef-c827-91fb5478f09b"
   },
   "outputs": [
    {
     "name": "stdout",
     "output_type": "stream",
     "text": [
      "\u001b[1m1/1\u001b[0m \u001b[32m━━━━━━━━━━━━━━━━━━━━\u001b[0m\u001b[37m\u001b[0m \u001b[1m1s\u001b[0m 847ms/step\n"
     ]
    }
   ],
   "source": [
    "# We first extract the trained generator from our Conditional GAN.\n",
    "trained_gen = cond_gan.generator\n",
    "\n",
    "# Choose the number of intermediate images that would be generated in\n",
    "# between the interpolation + 2 (start and last images).\n",
    "num_interpolation = 9  # @param {type:\"integer\"}\n",
    "\n",
    "# Sample noise for the interpolation.\n",
    "interpolation_noise = keras.random.normal(shape=(1, latent_dim))\n",
    "interpolation_noise = ops.repeat(interpolation_noise, repeats=num_interpolation)\n",
    "interpolation_noise = ops.reshape(interpolation_noise, (num_interpolation, latent_dim))\n",
    "\n",
    "\n",
    "def interpolate_class(first_number, second_number):\n",
    "    # Convert the start and end labels to one-hot encoded vectors.\n",
    "    first_label = keras.utils.to_categorical([first_number], num_classes)\n",
    "    second_label = keras.utils.to_categorical([second_number], num_classes)\n",
    "    first_label = ops.cast(first_label, \"float32\")\n",
    "    second_label = ops.cast(second_label, \"float32\")\n",
    "\n",
    "    # Calculate the interpolation vector between the two labels.\n",
    "    percent_second_label = ops.linspace(0, 1, num_interpolation)[:, None]\n",
    "    percent_second_label = ops.cast(percent_second_label, \"float32\")\n",
    "    interpolation_labels = (\n",
    "        first_label * (1 - percent_second_label) + second_label * percent_second_label\n",
    "    )\n",
    "\n",
    "    # Combine the noise and the labels and run inference with the generator.\n",
    "    noise_and_labels = ops.concatenate([interpolation_noise, interpolation_labels], 1)\n",
    "    fake = trained_gen.predict(noise_and_labels)\n",
    "    return fake\n",
    "\n",
    "\n",
    "start_class = 2  # @param {type:\"slider\", min:0, max:9, step:1}\n",
    "end_class = 6  # @param {type:\"slider\", min:0, max:9, step:1}\n",
    "\n",
    "fake_images = interpolate_class(start_class, end_class)"
   ]
  },
  {
   "cell_type": "markdown",
   "metadata": {
    "id": "g17v0sMRsSlo"
   },
   "source": [
    "Here, we first sample noise from a normal distribution and then we repeat that for\n",
    "`num_interpolation` times and reshape the result accordingly.\n",
    "We then distribute it uniformly for `num_interpolation`\n",
    "with the label identities being present in some proportion."
   ]
  },
  {
   "cell_type": "code",
   "execution_count": null,
   "metadata": {
    "colab": {
     "base_uri": "https://localhost:8080/",
     "height": 117
    },
    "id": "N0qzthzUsSlo",
    "outputId": "1e9c7caf-8681-454b-d356-4b98d40a3230"
   },
   "outputs": [
    {
     "data": {
      "text/html": [
       "<img src=\"data:image/gif;base64,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\"/>"
      ],
      "text/plain": [
       "<IPython.core.display.HTML object>"
      ]
     },
     "execution_count": 13,
     "metadata": {},
     "output_type": "execute_result"
    }
   ],
   "source": [
    "fake_images *= 255.0\n",
    "converted_images = fake_images.astype(np.uint8)\n",
    "converted_images = ops.image.resize(converted_images, (96, 96)).numpy().astype(np.uint8)\n",
    "imageio.mimsave(\"animation.gif\", converted_images[:, :, :, 0], fps=1)\n",
    "embed.embed_file(\"animation.gif\")"
   ]
  },
  {
   "cell_type": "markdown",
   "metadata": {
    "id": "4rvJGLcvsSlo"
   },
   "source": [
    "We can further improve the performance of this model with recipes like\n",
    "[WGAN-GP](https://keras.io/examples/generative/wgan_gp).\n",
    "Conditional generation is also widely used in many modern image generation architectures like\n",
    "[VQ-GANs](https://arxiv.org/abs/2012.09841), [DALL-E](https://openai.com/blog/dall-e/),\n",
    "etc.\n",
    "\n",
    "You can use the trained model hosted on [Hugging Face Hub](https://huggingface.co/keras-io/conditional-gan) and try the demo on [Hugging Face Spaces](https://huggingface.co/spaces/keras-io/conditional-GAN)."
   ]
  }
 ],
 "metadata": {
  "accelerator": "GPU",
  "colab": {
   "provenance": [],
   "toc_visible": true
  },
  "kernelspec": {
   "display_name": "Python 3 (ipykernel)",
   "language": "python",
   "name": "python3"
  },
  "language_info": {
   "codemirror_mode": {
    "name": "ipython",
    "version": 3
   },
   "file_extension": ".py",
   "mimetype": "text/x-python",
   "name": "python",
   "nbconvert_exporter": "python",
   "pygments_lexer": "ipython3",
   "version": "3.11.5"
  }
 },
 "nbformat": 4,
 "nbformat_minor": 4
}
